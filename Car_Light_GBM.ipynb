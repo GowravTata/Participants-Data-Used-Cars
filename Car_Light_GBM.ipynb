{
 "cells": [
  {
   "cell_type": "code",
   "execution_count": 1,
   "metadata": {
    "colab": {
     "base_uri": "https://localhost:8080/",
     "height": 70
    },
    "colab_type": "code",
    "id": "XpC76u7nDDYB",
    "outputId": "91cd828f-c135-4900-bd76-33fbc8deaaf6"
   },
   "outputs": [
    {
     "name": "stderr",
     "output_type": "stream",
     "text": [
      "/usr/local/lib/python3.6/dist-packages/statsmodels/tools/_testing.py:19: FutureWarning: pandas.util.testing is deprecated. Use the functions in the public API at pandas.testing instead.\n",
      "  import pandas.util.testing as tm\n"
     ]
    }
   ],
   "source": [
    "import pandas as pd\n",
    "import re\n",
    "import numpy as np\n",
    "import seaborn as sb\n",
    "import matplotlib.pyplot as plt\n",
    "from sklearn.metrics import r2_score,mean_absolute_error,mean_squared_error\n",
    "train = pd.read_excel('Data_Train.xlsx')"
   ]
  },
  {
   "cell_type": "code",
   "execution_count": 2,
   "metadata": {
    "colab": {
     "base_uri": "https://localhost:8080/",
     "height": 34
    },
    "colab_type": "code",
    "id": "bYx-iMihDDYG",
    "outputId": "5ff5b86b-a6ef-43c8-871f-9c0fe4b2621a",
    "scrolled": true
   },
   "outputs": [
    {
     "data": {
      "text/plain": [
       "(6019, 13)"
      ]
     },
     "execution_count": 2,
     "metadata": {
      "tags": []
     },
     "output_type": "execute_result"
    }
   ],
   "source": [
    "train.shape"
   ]
  },
  {
   "cell_type": "code",
   "execution_count": 3,
   "metadata": {
    "colab": {
     "base_uri": "https://localhost:8080/",
     "height": 195
    },
    "colab_type": "code",
    "id": "dhC3PtxbDDYJ",
    "outputId": "3f517d71-8789-4dde-a31f-29acf048aa8e",
    "scrolled": false
   },
   "outputs": [
    {
     "data": {
      "text/html": [
       "<div>\n",
       "<style scoped>\n",
       "    .dataframe tbody tr th:only-of-type {\n",
       "        vertical-align: middle;\n",
       "    }\n",
       "\n",
       "    .dataframe tbody tr th {\n",
       "        vertical-align: top;\n",
       "    }\n",
       "\n",
       "    .dataframe thead th {\n",
       "        text-align: right;\n",
       "    }\n",
       "</style>\n",
       "<table border=\"1\" class=\"dataframe\">\n",
       "  <thead>\n",
       "    <tr style=\"text-align: right;\">\n",
       "      <th></th>\n",
       "      <th>Name</th>\n",
       "      <th>Location</th>\n",
       "      <th>Year</th>\n",
       "      <th>Kilometers_Driven</th>\n",
       "      <th>Fuel_Type</th>\n",
       "      <th>Transmission</th>\n",
       "      <th>Owner_Type</th>\n",
       "      <th>Mileage</th>\n",
       "      <th>Engine</th>\n",
       "      <th>Power</th>\n",
       "      <th>Seats</th>\n",
       "      <th>New_Price</th>\n",
       "      <th>Price</th>\n",
       "    </tr>\n",
       "  </thead>\n",
       "  <tbody>\n",
       "    <tr>\n",
       "      <th>0</th>\n",
       "      <td>Maruti Wagon R LXI CNG</td>\n",
       "      <td>Mumbai</td>\n",
       "      <td>2010</td>\n",
       "      <td>72000</td>\n",
       "      <td>CNG</td>\n",
       "      <td>Manual</td>\n",
       "      <td>First</td>\n",
       "      <td>26.6 km/kg</td>\n",
       "      <td>998 CC</td>\n",
       "      <td>58.16 bhp</td>\n",
       "      <td>5.0</td>\n",
       "      <td>NaN</td>\n",
       "      <td>1.75</td>\n",
       "    </tr>\n",
       "    <tr>\n",
       "      <th>1</th>\n",
       "      <td>Hyundai Creta 1.6 CRDi SX Option</td>\n",
       "      <td>Pune</td>\n",
       "      <td>2015</td>\n",
       "      <td>41000</td>\n",
       "      <td>Diesel</td>\n",
       "      <td>Manual</td>\n",
       "      <td>First</td>\n",
       "      <td>19.67 kmpl</td>\n",
       "      <td>1582 CC</td>\n",
       "      <td>126.2 bhp</td>\n",
       "      <td>5.0</td>\n",
       "      <td>NaN</td>\n",
       "      <td>12.50</td>\n",
       "    </tr>\n",
       "    <tr>\n",
       "      <th>2</th>\n",
       "      <td>Honda Jazz V</td>\n",
       "      <td>Chennai</td>\n",
       "      <td>2011</td>\n",
       "      <td>46000</td>\n",
       "      <td>Petrol</td>\n",
       "      <td>Manual</td>\n",
       "      <td>First</td>\n",
       "      <td>18.2 kmpl</td>\n",
       "      <td>1199 CC</td>\n",
       "      <td>88.7 bhp</td>\n",
       "      <td>5.0</td>\n",
       "      <td>8.61 Lakh</td>\n",
       "      <td>4.50</td>\n",
       "    </tr>\n",
       "    <tr>\n",
       "      <th>3</th>\n",
       "      <td>Maruti Ertiga VDI</td>\n",
       "      <td>Chennai</td>\n",
       "      <td>2012</td>\n",
       "      <td>87000</td>\n",
       "      <td>Diesel</td>\n",
       "      <td>Manual</td>\n",
       "      <td>First</td>\n",
       "      <td>20.77 kmpl</td>\n",
       "      <td>1248 CC</td>\n",
       "      <td>88.76 bhp</td>\n",
       "      <td>7.0</td>\n",
       "      <td>NaN</td>\n",
       "      <td>6.00</td>\n",
       "    </tr>\n",
       "    <tr>\n",
       "      <th>4</th>\n",
       "      <td>Audi A4 New 2.0 TDI Multitronic</td>\n",
       "      <td>Coimbatore</td>\n",
       "      <td>2013</td>\n",
       "      <td>40670</td>\n",
       "      <td>Diesel</td>\n",
       "      <td>Automatic</td>\n",
       "      <td>Second</td>\n",
       "      <td>15.2 kmpl</td>\n",
       "      <td>1968 CC</td>\n",
       "      <td>140.8 bhp</td>\n",
       "      <td>5.0</td>\n",
       "      <td>NaN</td>\n",
       "      <td>17.74</td>\n",
       "    </tr>\n",
       "  </tbody>\n",
       "</table>\n",
       "</div>"
      ],
      "text/plain": [
       "                               Name    Location  Year  ...  Seats  New_Price  Price\n",
       "0            Maruti Wagon R LXI CNG      Mumbai  2010  ...    5.0        NaN   1.75\n",
       "1  Hyundai Creta 1.6 CRDi SX Option        Pune  2015  ...    5.0        NaN  12.50\n",
       "2                      Honda Jazz V     Chennai  2011  ...    5.0  8.61 Lakh   4.50\n",
       "3                 Maruti Ertiga VDI     Chennai  2012  ...    7.0        NaN   6.00\n",
       "4   Audi A4 New 2.0 TDI Multitronic  Coimbatore  2013  ...    5.0        NaN  17.74\n",
       "\n",
       "[5 rows x 13 columns]"
      ]
     },
     "execution_count": 3,
     "metadata": {
      "tags": []
     },
     "output_type": "execute_result"
    }
   ],
   "source": [
    "train.head()"
   ]
  },
  {
   "cell_type": "code",
   "execution_count": 0,
   "metadata": {
    "colab": {},
    "colab_type": "code",
    "id": "AlWLhHBUDDYM"
   },
   "outputs": [],
   "source": [
    "\n",
    "# Obtaining the age of the car\n",
    "\n",
    "# In presence of age attribute , Year is futile.......drop the feature\n",
    "\n",
    "train['Age']  = 2019-train['Year']\n",
    "\n",
    "train = train.drop(['Year'],axis=1)\n",
    "\n",
    "# extracting the mileage\n",
    "\n",
    "train['Mileage'] = train['Mileage'].str.extract('(\\d+.\\d+)')\n",
    "\n",
    "# extracting the engine\n",
    "\n",
    "train['Engine'] = train['Engine'].str.extract('(\\d+)')\n",
    "\n",
    "# extracting the power\n",
    "\n",
    "train['Power'] = train['Power'].str.extract('(\\d+.\\d+)')\n",
    "\n",
    "# extracting the manufacturer.....the importance of obtaining this feature will be known later\n",
    "\n",
    "train['Manufacturer'] = [i.split(' ')[0] for i in train['Name']]\n"
   ]
  },
  {
   "cell_type": "code",
   "execution_count": 0,
   "metadata": {
    "colab": {},
    "colab_type": "code",
    "id": "r3qD2ox6DDYP",
    "scrolled": false
   },
   "outputs": [],
   "source": [
    "# mapping  plays a crucial role , as it determines the owner type\n",
    "\n",
    "train['Owner_Type'] = train['Owner_Type'].map({'First':1,'Second':2,'Third':3,'Fourth & Above':4})"
   ]
  },
  {
   "cell_type": "code",
   "execution_count": 0,
   "metadata": {
    "colab": {},
    "colab_type": "code",
    "id": "qKb3v4z9DDYR"
   },
   "outputs": [],
   "source": [
    "#converting type of mileage\n",
    "\n",
    "train['Mileage'] = train['Mileage'].astype(float)\n"
   ]
  },
  {
   "cell_type": "markdown",
   "metadata": {
    "colab_type": "text",
    "id": "wV7VQ5cTDDYT"
   },
   "source": [
    "# New Feature"
   ]
  },
  {
   "cell_type": "code",
   "execution_count": 0,
   "metadata": {
    "colab": {},
    "colab_type": "code",
    "id": "l2NTHEI3DDYU"
   },
   "outputs": [],
   "source": [
    "# Finding the fuel consumed per kilometers driven\n",
    "\n",
    "train['Fuel_Consumed'] = train['Kilometers_Driven']/(train['Mileage'])"
   ]
  },
  {
   "cell_type": "code",
   "execution_count": 8,
   "metadata": {
    "colab": {
     "base_uri": "https://localhost:8080/",
     "height": 286
    },
    "colab_type": "code",
    "id": "x_EAcqxTDDYX",
    "outputId": "c0edb8e3-3da1-4ba0-c31f-e4f929bb61ec",
    "scrolled": false
   },
   "outputs": [
    {
     "data": {
      "text/plain": [
       "Name                    0\n",
       "Location                0\n",
       "Kilometers_Driven       0\n",
       "Fuel_Type               0\n",
       "Transmission            0\n",
       "Owner_Type              0\n",
       "Mileage                 2\n",
       "Engine                 36\n",
       "Power                1104\n",
       "Seats                  42\n",
       "New_Price            5195\n",
       "Price                   0\n",
       "Age                     0\n",
       "Manufacturer            0\n",
       "Fuel_Consumed           2\n",
       "dtype: int64"
      ]
     },
     "execution_count": 8,
     "metadata": {
      "tags": []
     },
     "output_type": "execute_result"
    }
   ],
   "source": [
    "train.isnull().sum()"
   ]
  },
  {
   "cell_type": "code",
   "execution_count": 0,
   "metadata": {
    "colab": {},
    "colab_type": "code",
    "id": "yHlvL0tfDDYZ"
   },
   "outputs": [],
   "source": [
    "# Still there are some missing values............need to be filled\n",
    "\n",
    "train['Fuel_Consumed'] = train.Fuel_Consumed.fillna(train.Fuel_Consumed.mean())\n"
   ]
  },
  {
   "cell_type": "code",
   "execution_count": 10,
   "metadata": {
    "colab": {
     "base_uri": "https://localhost:8080/",
     "height": 312
    },
    "colab_type": "code",
    "id": "en_DZaPuDDYb",
    "outputId": "fc196ca7-25a3-4db7-c75e-55ce0bf5caa7",
    "scrolled": false
   },
   "outputs": [
    {
     "data": {
      "text/plain": [
       "Text(0, 0.5, 'Total Distance Driven')"
      ]
     },
     "execution_count": 10,
     "metadata": {
      "tags": []
     },
     "output_type": "execute_result"
    },
    {
     "data": {
      "image/png": "[encoded data removed]",
      "text/plain": [
       "<Figure size 432x288 with 1 Axes>"
      ]
     },
     "metadata": {
      "needs_background": "light",
      "tags": []
     },
     "output_type": "display_data"
    }
   ],
   "source": [
    "plt.scatter(x='Fuel_Consumed', y='Kilometers_Driven',data=train,edgecolors='w')\n",
    "plt.title('Fuel Consumed Vs Distance Driven')\n",
    "plt.xlabel('Fuel Consumption in litres')\n",
    "plt.ylabel('Total Distance Driven')"
   ]
  },
  {
   "cell_type": "code",
   "execution_count": 0,
   "metadata": {
    "colab": {},
    "colab_type": "code",
    "id": "9PTDDhXPDDYe"
   },
   "outputs": [],
   "source": [
    "# This is the perfect example of how data deceives us, if we have a glimpse we will realise that some values are far away \n",
    "\n",
    "# eventhough null-values are filled\n",
    "\n",
    "# This phenomenon occurs due to the filling of values as 0 in Mileage which will raise our new feature to infinite\n",
    "\n",
    "#  As outliers are invetable, we will ditch those values"
   ]
  },
  {
   "cell_type": "code",
   "execution_count": 0,
   "metadata": {
    "colab": {},
    "colab_type": "code",
    "id": "FwyHzmjIDDYh"
   },
   "outputs": [],
   "source": [
    "# Removing the outliers based on the plot obtained\n",
    "\n",
    "train = train.drop(train[(train['Fuel_Consumed']>22000) | (train['Mileage']<1)].index)"
   ]
  },
  {
   "cell_type": "code",
   "execution_count": 13,
   "metadata": {
    "colab": {
     "base_uri": "https://localhost:8080/",
     "height": 312
    },
    "colab_type": "code",
    "id": "60uVJNoHDDYj",
    "outputId": "22f26788-88df-438e-9007-a0636e863fde",
    "scrolled": true
   },
   "outputs": [
    {
     "data": {
      "text/plain": [
       "Text(0, 0.5, 'Total Distance Driven')"
      ]
     },
     "execution_count": 13,
     "metadata": {
      "tags": []
     },
     "output_type": "execute_result"
    },
    {
     "data": {
      "image/png": "[encoded data removed]",
      "text/plain": [
       "<Figure size 432x288 with 1 Axes>"
      ]
     },
     "metadata": {
      "needs_background": "light",
      "tags": []
     },
     "output_type": "display_data"
    }
   ],
   "source": [
    "plt.scatter(x='Fuel_Consumed', y='Kilometers_Driven',data=train,edgecolors='w')\n",
    "plt.title('Fuel Consumed Vs Distance Driven')\n",
    "plt.xlabel('Fuel Consumption in litres')\n",
    "plt.ylabel('Total Distance Driven')"
   ]
  },
  {
   "cell_type": "code",
   "execution_count": 0,
   "metadata": {
    "colab": {},
    "colab_type": "code",
    "id": "hVEdK1iZDDYm"
   },
   "outputs": [],
   "source": [
    "# The results are staggering as there is huge change in plot"
   ]
  },
  {
   "cell_type": "code",
   "execution_count": 0,
   "metadata": {
    "colab": {},
    "colab_type": "code",
    "id": "QKXfI_-eDDYo"
   },
   "outputs": [],
   "source": [
    "# The feature New_Price is the weak point of this..........eventhough it provides much of the data......\n",
    "\n",
    "# Due to the presence of high volume of null values it is wise to drop the column\n",
    "\n",
    "# Dropping the column with much NaN values\n",
    "\n",
    "train = train.drop(['New_Price'],axis=1)"
   ]
  },
  {
   "cell_type": "code",
   "execution_count": 16,
   "metadata": {
    "colab": {
     "base_uri": "https://localhost:8080/",
     "height": 269
    },
    "colab_type": "code",
    "id": "SYyUwstEDDYq",
    "outputId": "dd25a22a-066b-4e55-d7bc-96b1ef78e06c"
   },
   "outputs": [
    {
     "data": {
      "text/plain": [
       "Name                    0\n",
       "Location                0\n",
       "Kilometers_Driven       0\n",
       "Fuel_Type               0\n",
       "Transmission            0\n",
       "Owner_Type              0\n",
       "Mileage                 0\n",
       "Engine                 25\n",
       "Power                1055\n",
       "Seats                  30\n",
       "Price                   0\n",
       "Age                     0\n",
       "Manufacturer            0\n",
       "Fuel_Consumed           0\n",
       "dtype: int64"
      ]
     },
     "execution_count": 16,
     "metadata": {
      "tags": []
     },
     "output_type": "execute_result"
    }
   ],
   "source": [
    "train.isnull().sum()"
   ]
  },
  {
   "cell_type": "code",
   "execution_count": 0,
   "metadata": {
    "colab": {},
    "colab_type": "code",
    "id": "S8QUHjzGDDYs"
   },
   "outputs": [],
   "source": [
    "# Still there are null values\n",
    "\n",
    "#Filling the Seats.......As an ideal car has 5 seats, better to fill with out any second thought\n",
    "\n",
    "train['Seats'] = train['Seats'].fillna(5)\n",
    "\n",
    "#Filling the values using median , as mean value is pointless, due to high amount of null values\n",
    "\n",
    "train['Engine'] = train.groupby(['Manufacturer'])['Engine'].transform(lambda i:i.fillna(i.median()))"
   ]
  },
  {
   "cell_type": "code",
   "execution_count": 0,
   "metadata": {
    "colab": {},
    "colab_type": "code",
    "id": "_8gBGW31DDYw"
   },
   "outputs": [],
   "source": [
    "#Filling the power using Mean value\n",
    "\n",
    "train.Power = train.groupby(['Manufacturer'])['Engine'].transform(lambda i:i.fillna(i.median()))"
   ]
  },
  {
   "cell_type": "code",
   "execution_count": 19,
   "metadata": {
    "colab": {
     "base_uri": "https://localhost:8080/",
     "height": 284
    },
    "colab_type": "code",
    "id": "VyQSFCPLDDYy",
    "outputId": "64135e7a-baa5-4552-f345-e4c588f8675f"
   },
   "outputs": [
    {
     "data": {
      "text/plain": [
       "<matplotlib.axes._subplots.AxesSubplot at 0x7ff5d34c92b0>"
      ]
     },
     "execution_count": 19,
     "metadata": {
      "tags": []
     },
     "output_type": "execute_result"
    },
    {
     "data": {
      "image/png": "[encoded data removed]",
      "text/plain": [
       "<Figure size 432x288 with 1 Axes>"
      ]
     },
     "metadata": {
      "needs_background": "light",
      "tags": []
     },
     "output_type": "display_data"
    }
   ],
   "source": [
    "sb.kdeplot(train['Engine'])"
   ]
  },
  {
   "cell_type": "code",
   "execution_count": 20,
   "metadata": {
    "colab": {
     "base_uri": "https://localhost:8080/",
     "height": 195
    },
    "colab_type": "code",
    "id": "XsetYzU3DDY0",
    "outputId": "aea23a87-5022-4239-e7e6-89d1b1a400fa",
    "scrolled": true
   },
   "outputs": [
    {
     "data": {
      "text/html": [
       "<div>\n",
       "<style scoped>\n",
       "    .dataframe tbody tr th:only-of-type {\n",
       "        vertical-align: middle;\n",
       "    }\n",
       "\n",
       "    .dataframe tbody tr th {\n",
       "        vertical-align: top;\n",
       "    }\n",
       "\n",
       "    .dataframe thead th {\n",
       "        text-align: right;\n",
       "    }\n",
       "</style>\n",
       "<table border=\"1\" class=\"dataframe\">\n",
       "  <thead>\n",
       "    <tr style=\"text-align: right;\">\n",
       "      <th></th>\n",
       "      <th>Name</th>\n",
       "      <th>Location</th>\n",
       "      <th>Kilometers_Driven</th>\n",
       "      <th>Fuel_Type</th>\n",
       "      <th>Transmission</th>\n",
       "      <th>Owner_Type</th>\n",
       "      <th>Mileage</th>\n",
       "      <th>Engine</th>\n",
       "      <th>Power</th>\n",
       "      <th>Seats</th>\n",
       "      <th>Price</th>\n",
       "      <th>Age</th>\n",
       "      <th>Manufacturer</th>\n",
       "      <th>Fuel_Consumed</th>\n",
       "    </tr>\n",
       "  </thead>\n",
       "  <tbody>\n",
       "    <tr>\n",
       "      <th>0</th>\n",
       "      <td>Maruti Wagon R LXI CNG</td>\n",
       "      <td>Mumbai</td>\n",
       "      <td>72000</td>\n",
       "      <td>CNG</td>\n",
       "      <td>Manual</td>\n",
       "      <td>1</td>\n",
       "      <td>26.60</td>\n",
       "      <td>998</td>\n",
       "      <td>998</td>\n",
       "      <td>5.0</td>\n",
       "      <td>1.75</td>\n",
       "      <td>9</td>\n",
       "      <td>Maruti</td>\n",
       "      <td>2706.766917</td>\n",
       "    </tr>\n",
       "    <tr>\n",
       "      <th>1</th>\n",
       "      <td>Hyundai Creta 1.6 CRDi SX Option</td>\n",
       "      <td>Pune</td>\n",
       "      <td>41000</td>\n",
       "      <td>Diesel</td>\n",
       "      <td>Manual</td>\n",
       "      <td>1</td>\n",
       "      <td>19.67</td>\n",
       "      <td>1582</td>\n",
       "      <td>1582</td>\n",
       "      <td>5.0</td>\n",
       "      <td>12.50</td>\n",
       "      <td>4</td>\n",
       "      <td>Hyundai</td>\n",
       "      <td>2084.392476</td>\n",
       "    </tr>\n",
       "    <tr>\n",
       "      <th>2</th>\n",
       "      <td>Honda Jazz V</td>\n",
       "      <td>Chennai</td>\n",
       "      <td>46000</td>\n",
       "      <td>Petrol</td>\n",
       "      <td>Manual</td>\n",
       "      <td>1</td>\n",
       "      <td>18.20</td>\n",
       "      <td>1199</td>\n",
       "      <td>1199</td>\n",
       "      <td>5.0</td>\n",
       "      <td>4.50</td>\n",
       "      <td>8</td>\n",
       "      <td>Honda</td>\n",
       "      <td>2527.472527</td>\n",
       "    </tr>\n",
       "    <tr>\n",
       "      <th>3</th>\n",
       "      <td>Maruti Ertiga VDI</td>\n",
       "      <td>Chennai</td>\n",
       "      <td>87000</td>\n",
       "      <td>Diesel</td>\n",
       "      <td>Manual</td>\n",
       "      <td>1</td>\n",
       "      <td>20.77</td>\n",
       "      <td>1248</td>\n",
       "      <td>1248</td>\n",
       "      <td>7.0</td>\n",
       "      <td>6.00</td>\n",
       "      <td>7</td>\n",
       "      <td>Maruti</td>\n",
       "      <td>4188.733751</td>\n",
       "    </tr>\n",
       "    <tr>\n",
       "      <th>4</th>\n",
       "      <td>Audi A4 New 2.0 TDI Multitronic</td>\n",
       "      <td>Coimbatore</td>\n",
       "      <td>40670</td>\n",
       "      <td>Diesel</td>\n",
       "      <td>Automatic</td>\n",
       "      <td>2</td>\n",
       "      <td>15.20</td>\n",
       "      <td>1968</td>\n",
       "      <td>1968</td>\n",
       "      <td>5.0</td>\n",
       "      <td>17.74</td>\n",
       "      <td>6</td>\n",
       "      <td>Audi</td>\n",
       "      <td>2675.657895</td>\n",
       "    </tr>\n",
       "  </tbody>\n",
       "</table>\n",
       "</div>"
      ],
      "text/plain": [
       "                               Name    Location  ...  Manufacturer Fuel_Consumed\n",
       "0            Maruti Wagon R LXI CNG      Mumbai  ...        Maruti   2706.766917\n",
       "1  Hyundai Creta 1.6 CRDi SX Option        Pune  ...       Hyundai   2084.392476\n",
       "2                      Honda Jazz V     Chennai  ...         Honda   2527.472527\n",
       "3                 Maruti Ertiga VDI     Chennai  ...        Maruti   4188.733751\n",
       "4   Audi A4 New 2.0 TDI Multitronic  Coimbatore  ...          Audi   2675.657895\n",
       "\n",
       "[5 rows x 14 columns]"
      ]
     },
     "execution_count": 20,
     "metadata": {
      "tags": []
     },
     "output_type": "execute_result"
    }
   ],
   "source": [
    "train.head()"
   ]
  },
  {
   "cell_type": "code",
   "execution_count": 0,
   "metadata": {
    "colab": {},
    "colab_type": "code",
    "id": "1SGcwtWJDDY2"
   },
   "outputs": [],
   "source": [
    "# Drop the Name, as it doesn't manner in anyways\n",
    "\n",
    "train = train.drop(['Name'],axis =1)"
   ]
  },
  {
   "cell_type": "code",
   "execution_count": 0,
   "metadata": {
    "colab": {},
    "colab_type": "code",
    "id": "DWnyhDpSDDY3"
   },
   "outputs": [],
   "source": [
    "from sklearn.preprocessing import LabelEncoder\n",
    "label=LabelEncoder()"
   ]
  },
  {
   "cell_type": "code",
   "execution_count": 0,
   "metadata": {
    "colab": {},
    "colab_type": "code",
    "id": "qQ4RPFNeDDY5"
   },
   "outputs": [],
   "source": [
    "#Label Encoding the columns\n",
    "\n",
    "for i in train.columns:\n",
    "    \n",
    "    if train[i].dtype=='object':\n",
    "        \n",
    "        train[i]=label.fit_transform(list(train[i].values))"
   ]
  },
  {
   "cell_type": "code",
   "execution_count": 24,
   "metadata": {
    "colab": {
     "base_uri": "https://localhost:8080/",
     "height": 195
    },
    "colab_type": "code",
    "id": "SB3YsA1gDDY7",
    "outputId": "cca0ddbd-c0ab-4214-c66c-447a96f575fb",
    "scrolled": true
   },
   "outputs": [
    {
     "data": {
      "text/html": [
       "<div>\n",
       "<style scoped>\n",
       "    .dataframe tbody tr th:only-of-type {\n",
       "        vertical-align: middle;\n",
       "    }\n",
       "\n",
       "    .dataframe tbody tr th {\n",
       "        vertical-align: top;\n",
       "    }\n",
       "\n",
       "    .dataframe thead th {\n",
       "        text-align: right;\n",
       "    }\n",
       "</style>\n",
       "<table border=\"1\" class=\"dataframe\">\n",
       "  <thead>\n",
       "    <tr style=\"text-align: right;\">\n",
       "      <th></th>\n",
       "      <th>Location</th>\n",
       "      <th>Kilometers_Driven</th>\n",
       "      <th>Fuel_Type</th>\n",
       "      <th>Transmission</th>\n",
       "      <th>Owner_Type</th>\n",
       "      <th>Mileage</th>\n",
       "      <th>Engine</th>\n",
       "      <th>Power</th>\n",
       "      <th>Seats</th>\n",
       "      <th>Price</th>\n",
       "      <th>Age</th>\n",
       "      <th>Manufacturer</th>\n",
       "      <th>Fuel_Consumed</th>\n",
       "    </tr>\n",
       "  </thead>\n",
       "  <tbody>\n",
       "    <tr>\n",
       "      <th>0</th>\n",
       "      <td>9</td>\n",
       "      <td>72000</td>\n",
       "      <td>0</td>\n",
       "      <td>1</td>\n",
       "      <td>1</td>\n",
       "      <td>26.60</td>\n",
       "      <td>146</td>\n",
       "      <td>146</td>\n",
       "      <td>5.0</td>\n",
       "      <td>1.75</td>\n",
       "      <td>9</td>\n",
       "      <td>18</td>\n",
       "      <td>2706.766917</td>\n",
       "    </tr>\n",
       "    <tr>\n",
       "      <th>1</th>\n",
       "      <td>10</td>\n",
       "      <td>41000</td>\n",
       "      <td>1</td>\n",
       "      <td>1</td>\n",
       "      <td>1</td>\n",
       "      <td>19.67</td>\n",
       "      <td>42</td>\n",
       "      <td>42</td>\n",
       "      <td>5.0</td>\n",
       "      <td>12.50</td>\n",
       "      <td>4</td>\n",
       "      <td>10</td>\n",
       "      <td>2084.392476</td>\n",
       "    </tr>\n",
       "    <tr>\n",
       "      <th>2</th>\n",
       "      <td>2</td>\n",
       "      <td>46000</td>\n",
       "      <td>3</td>\n",
       "      <td>1</td>\n",
       "      <td>1</td>\n",
       "      <td>18.20</td>\n",
       "      <td>13</td>\n",
       "      <td>13</td>\n",
       "      <td>5.0</td>\n",
       "      <td>4.50</td>\n",
       "      <td>8</td>\n",
       "      <td>9</td>\n",
       "      <td>2527.472527</td>\n",
       "    </tr>\n",
       "    <tr>\n",
       "      <th>3</th>\n",
       "      <td>2</td>\n",
       "      <td>87000</td>\n",
       "      <td>1</td>\n",
       "      <td>1</td>\n",
       "      <td>1</td>\n",
       "      <td>20.77</td>\n",
       "      <td>15</td>\n",
       "      <td>15</td>\n",
       "      <td>7.0</td>\n",
       "      <td>6.00</td>\n",
       "      <td>7</td>\n",
       "      <td>18</td>\n",
       "      <td>4188.733751</td>\n",
       "    </tr>\n",
       "    <tr>\n",
       "      <th>4</th>\n",
       "      <td>3</td>\n",
       "      <td>40670</td>\n",
       "      <td>1</td>\n",
       "      <td>0</td>\n",
       "      <td>2</td>\n",
       "      <td>15.20</td>\n",
       "      <td>61</td>\n",
       "      <td>61</td>\n",
       "      <td>5.0</td>\n",
       "      <td>17.74</td>\n",
       "      <td>6</td>\n",
       "      <td>1</td>\n",
       "      <td>2675.657895</td>\n",
       "    </tr>\n",
       "  </tbody>\n",
       "</table>\n",
       "</div>"
      ],
      "text/plain": [
       "   Location  Kilometers_Driven  Fuel_Type  ...  Age  Manufacturer  Fuel_Consumed\n",
       "0         9              72000          0  ...    9            18    2706.766917\n",
       "1        10              41000          1  ...    4            10    2084.392476\n",
       "2         2              46000          3  ...    8             9    2527.472527\n",
       "3         2              87000          1  ...    7            18    4188.733751\n",
       "4         3              40670          1  ...    6             1    2675.657895\n",
       "\n",
       "[5 rows x 13 columns]"
      ]
     },
     "execution_count": 24,
     "metadata": {
      "tags": []
     },
     "output_type": "execute_result"
    }
   ],
   "source": [
    "train.head()"
   ]
  },
  {
   "cell_type": "code",
   "execution_count": 0,
   "metadata": {
    "colab": {},
    "colab_type": "code",
    "id": "vtecSK2fDDY9"
   },
   "outputs": [],
   "source": [
    "# Preserving the Target Variable\n",
    "\n",
    "y = train['Price']\n",
    "\n",
    "# Reckoning all the necessary data\n",
    "\n",
    "X = train.drop(['Price'],axis = 1)\n"
   ]
  },
  {
   "cell_type": "code",
   "execution_count": 0,
   "metadata": {
    "colab": {},
    "colab_type": "code",
    "id": "C1nIoWxVDDY_"
   },
   "outputs": [],
   "source": [
    "# Splitting the data\n",
    "\n",
    "from sklearn.model_selection import train_test_split\n",
    "\n",
    "# Considering the test size of 0.3 i.e., 30 % of data is taken under \n",
    "\n",
    "xtrain,xtest,ytrain,ytest=train_test_split(X,y,test_size=0.3,random_state=42)"
   ]
  },
  {
   "cell_type": "markdown",
   "metadata": {},
   "source": [
    "# Light GBM"
   ]
  },
  {
   "cell_type": "code",
   "execution_count": 0,
   "metadata": {
    "colab": {},
    "colab_type": "code",
    "id": "3QFP2T6Ez6Fj"
   },
   "outputs": [],
   "source": [
    "import lightgbm as lgb"
   ]
  },
  {
   "cell_type": "code",
   "execution_count": 0,
   "metadata": {
    "colab": {},
    "colab_type": "code",
    "id": "8aK8vXXQz6Fm"
   },
   "outputs": [],
   "source": [
    "from sklearn.model_selection import KFold\n",
    "from sklearn import metrics"
   ]
  },
  {
   "cell_type": "code",
   "execution_count": 0,
   "metadata": {
    "colab": {},
    "colab_type": "code",
    "id": "TD8VsC2Az6Fp"
   },
   "outputs": [],
   "source": [
    "#Setting the parameters\n",
    "params = {\n",
    "        \"objective\" : \"regression\",\n",
    "        \"metric\" : \"rmse\",\n",
    "        \"boosting\": \"gbdt\",\n",
    "        \"max_depth\" : 5,\n",
    "        \"learning_rate\" : 0.01,\n",
    "        \"feature_fraction\" : 0.5,\n",
    "        \"num_leaves\" : 64,\n",
    "        \"verbosity\" : -1\n",
    "    }"
   ]
  },
  {
   "cell_type": "code",
   "execution_count": 0,
   "metadata": {
    "colab": {},
    "colab_type": "code",
    "id": "ZSkjAHNs1Rez"
   },
   "outputs": [],
   "source": [
    "# As the light gbm has special characteristics than that of other models\n",
    "\n",
    "# The train dataset dependent feature and independent features has to set under one varaible\n",
    "\n",
    "lgb_train = lgb.Dataset(xtrain, ytrain)"
   ]
  },
  {
   "cell_type": "code",
   "execution_count": 0,
   "metadata": {
    "colab": {},
    "colab_type": "code",
    "id": "Jf1DvieX1qs5"
   },
   "outputs": [],
   "source": [
    "# Same applies for Train Dataset\n",
    "\n",
    "lgb_val = lgb.Dataset(xtest, ytest)"
   ]
  },
  {
   "cell_type": "code",
   "execution_count": 32,
   "metadata": {
    "colab": {
     "base_uri": "https://localhost:8080/",
     "height": 722
    },
    "colab_type": "code",
    "id": "ARchp319z6Fs",
    "outputId": "f40e2c17-23c3-46fb-ba05-c6c0ffef90ee",
    "scrolled": false
   },
   "outputs": [
    {
     "name": "stdout",
     "output_type": "stream",
     "text": [
      "Training until validation scores don't improve for 30 rounds.\n",
      "[100]\ttrain's rmse: 6.65329\tvalid's rmse: 6.50779\n",
      "[200]\ttrain's rmse: 4.96966\tvalid's rmse: 5.02251\n",
      "[300]\ttrain's rmse: 4.24181\tvalid's rmse: 4.41529\n",
      "[400]\ttrain's rmse: 3.88818\tvalid's rmse: 4.15142\n",
      "[500]\ttrain's rmse: 3.63973\tvalid's rmse: 3.9886\n",
      "[600]\ttrain's rmse: 3.45884\tvalid's rmse: 3.87837\n",
      "[700]\ttrain's rmse: 3.31262\tvalid's rmse: 3.80376\n",
      "[800]\ttrain's rmse: 3.20116\tvalid's rmse: 3.75034\n",
      "[900]\ttrain's rmse: 3.1105\tvalid's rmse: 3.70481\n",
      "[1000]\ttrain's rmse: 3.0324\tvalid's rmse: 3.66724\n",
      "[1100]\ttrain's rmse: 2.9648\tvalid's rmse: 3.63798\n",
      "[1200]\ttrain's rmse: 2.89605\tvalid's rmse: 3.61755\n",
      "[1300]\ttrain's rmse: 2.84355\tvalid's rmse: 3.6003\n",
      "[1400]\ttrain's rmse: 2.79025\tvalid's rmse: 3.58357\n",
      "[1500]\ttrain's rmse: 2.74074\tvalid's rmse: 3.56277\n",
      "[1600]\ttrain's rmse: 2.6955\tvalid's rmse: 3.54523\n",
      "[1700]\ttrain's rmse: 2.64987\tvalid's rmse: 3.5272\n",
      "[1800]\ttrain's rmse: 2.60447\tvalid's rmse: 3.51133\n",
      "[1900]\ttrain's rmse: 2.55839\tvalid's rmse: 3.49409\n",
      "[2000]\ttrain's rmse: 2.52005\tvalid's rmse: 3.48228\n",
      "[2100]\ttrain's rmse: 2.48911\tvalid's rmse: 3.47603\n",
      "[2200]\ttrain's rmse: 2.4524\tvalid's rmse: 3.4638\n",
      "[2300]\ttrain's rmse: 2.4223\tvalid's rmse: 3.45385\n",
      "[2400]\ttrain's rmse: 2.38639\tvalid's rmse: 3.44216\n",
      "[2500]\ttrain's rmse: 2.34501\tvalid's rmse: 3.42707\n",
      "[2600]\ttrain's rmse: 2.31514\tvalid's rmse: 3.42167\n",
      "[2700]\ttrain's rmse: 2.28993\tvalid's rmse: 3.41401\n",
      "[2800]\ttrain's rmse: 2.25764\tvalid's rmse: 3.40833\n",
      "[2900]\ttrain's rmse: 2.22265\tvalid's rmse: 3.39801\n",
      "[3000]\ttrain's rmse: 2.18634\tvalid's rmse: 3.3883\n",
      "[3100]\ttrain's rmse: 2.15692\tvalid's rmse: 3.37981\n",
      "[3200]\ttrain's rmse: 2.13126\tvalid's rmse: 3.37127\n",
      "[3300]\ttrain's rmse: 2.10861\tvalid's rmse: 3.36466\n",
      "[3400]\ttrain's rmse: 2.08844\tvalid's rmse: 3.35678\n",
      "[3500]\ttrain's rmse: 2.06375\tvalid's rmse: 3.34831\n",
      "[3600]\ttrain's rmse: 2.04041\tvalid's rmse: 3.34005\n",
      "[3700]\ttrain's rmse: 2.01659\tvalid's rmse: 3.33302\n",
      "[3800]\ttrain's rmse: 1.99201\tvalid's rmse: 3.32643\n",
      "[3900]\ttrain's rmse: 1.97147\tvalid's rmse: 3.32269\n",
      "Early stopping, best iteration is:\n",
      "[3923]\ttrain's rmse: 1.96723\tvalid's rmse: 3.32123\n"
     ]
    }
   ],
   "source": [
    "\n",
    "model = lgb.train(params, lgb_train, 10000, valid_sets = [lgb_val, lgb_train]\n",
    "                  , valid_names = ['valid', 'train']\n",
    "                      , early_stopping_rounds=30\n",
    "                      , verbose_eval=100\n",
    "                     )"
   ]
  },
  {
   "cell_type": "code",
   "execution_count": 0,
   "metadata": {
    "colab": {},
    "colab_type": "code",
    "id": "gGEF-fL6z6Fv"
   },
   "outputs": [],
   "source": [
    "lgb_pred = model.predict(xtest)"
   ]
  },
  {
   "cell_type": "code",
   "execution_count": 34,
   "metadata": {
    "colab": {
     "base_uri": "https://localhost:8080/",
     "height": 101
    },
    "colab_type": "code",
    "id": "D3Aq4psh0WbP",
    "outputId": "cfaa1daf-4703-4cec-f8f8-5acdf47c2824"
   },
   "outputs": [
    {
     "name": "stdout",
     "output_type": "stream",
     "text": [
      "R2 Score of Light Gradient Boosting Machine is 0.9053778251924103\n",
      "----------------------------------------------------------------------------------------------------\n",
      "Mean Squared Error of Light Gradient Boosting Machine is 11.030587132832375\n",
      "----------------------------------------------------------------------------------------------------\n",
      "Mean Absolute Error of Light Gradient Boosting Machine is 1.634608434161664\n"
     ]
    }
   ],
   "source": [
    "print(f'R2 Score of Light Gradient Boosting Machine is {r2_score(ytest,lgb_pred)}')\n",
    "print('-'*100)\n",
    "print(f'Mean Squared Error of Light Gradient Boosting Machine is {mean_squared_error(ytest,lgb_pred)}')\n",
    "print('-'*100)\n",
    "print(f'Mean Absolute Error of Light Gradient Boosting Machine is {mean_absolute_error(ytest,lgb_pred)}')"
   ]
  },
  {
   "cell_type": "code",
   "execution_count": 0,
   "metadata": {
    "colab": {},
    "colab_type": "code",
    "id": "EUKi_CII0eyP"
   },
   "outputs": [],
   "source": []
  }
 ],
 "metadata": {
  "colab": {
   "name": "Car Light GBM.ipynb",
   "provenance": []
  },
  "kernelspec": {
   "display_name": "'Python Interactive'",
   "language": "python",
   "name": "e8d6e01a-10ca-47c6-bea2-199eeb0755e8"
  },
  "language_info": {
   "codemirror_mode": {
    "name": "ipython",
    "version": 3
   },
   "file_extension": ".py",
   "mimetype": "text/x-python",
   "name": "python",
   "nbconvert_exporter": "python",
   "pygments_lexer": "ipython3",
   "version": "3.7.3"
  }
 },
 "nbformat": 4,
 "nbformat_minor": 1
}
